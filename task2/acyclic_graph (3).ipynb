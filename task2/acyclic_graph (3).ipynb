{
  "nbformat": 4,
  "nbformat_minor": 0,
  "metadata": {
    "colab": {
      "name": "acyclic_graph.ipynb",
      "provenance": [],
      "collapsed_sections": [
        "9HRidulClJ-S"
      ],
      "toc_visible": true
    },
    "kernelspec": {
      "display_name": "Python 3",
      "name": "python3"
    },
    "language_info": {
      "name": "python"
    }
  },
  "cells": [
    {
      "cell_type": "code",
      "metadata": {
        "colab": {
          "base_uri": "https://localhost:8080/"
        },
        "id": "pYNTyMr-1djp",
        "outputId": "5d244753-769b-4af7-d676-4fe18752dd92"
      },
      "source": [
        "pip install networkx"
      ],
      "execution_count": null,
      "outputs": [
        {
          "output_type": "stream",
          "text": [
            "Requirement already satisfied: networkx in /usr/local/lib/python3.7/dist-packages (2.5)\n",
            "Requirement already satisfied: decorator>=4.3.0 in /usr/local/lib/python3.7/dist-packages (from networkx) (4.4.2)\n"
          ],
          "name": "stdout"
        }
      ]
    },
    {
      "cell_type": "code",
      "metadata": {
        "id": "vVOw8UXL1x8N"
      },
      "source": [
        "import networkx as nx\n",
        "import statistics\n",
        "from networkx.readwrite.graphml import read_graphml\n",
        "import copy\n",
        "import matplotlib.pyplot as plt\n",
        "import numpy as np"
      ],
      "execution_count": 106,
      "outputs": []
    },
    {
      "cell_type": "markdown",
      "metadata": {
        "id": "OQ7vViTgtxm8"
      },
      "source": [
        "Загрузим граф:"
      ]
    },
    {
      "cell_type": "markdown",
      "metadata": {
        "id": "zHZmd-JpI26W"
      },
      "source": [
        "https://github.com/Ivanlasich/visualisation_methods-/blob/main/graph.xml - ссылка на граф"
      ]
    },
    {
      "cell_type": "markdown",
      "metadata": {
        "id": "MplHEfN_bctE"
      },
      "source": [
        "## При наличествующем w реализуем распределение по слоям с помощью алгоритма Грэхема—Коффмана, который был описан на лекции, данная секция подразумевает то, что w задан: \n"
      ]
    },
    {
      "cell_type": "markdown",
      "metadata": {
        "id": "jQM6myPAkAB7"
      },
      "source": [
        "Зададим максимальную ширину w=3"
      ]
    },
    {
      "cell_type": "code",
      "metadata": {
        "id": "4UcCfqJScarI"
      },
      "source": [
        "w=3"
      ],
      "execution_count": 107,
      "outputs": []
    },
    {
      "cell_type": "code",
      "metadata": {
        "id": "Cj1Nu93k2gQS"
      },
      "source": [
        "def top_sort(start_nodes):\n",
        "    queue = []\n",
        "    for j in start_nodes:\n",
        "        queue.append(j)\n",
        "        visited[j] = 1\n",
        "    index = 0\n",
        "    while queue != []:\n",
        "        new_queue = []\n",
        "        while queue != []:\n",
        "            i = queue.index(min(queue, key=lambda x: sorted(incom_nodes[x], key= lambda y:-y)))\n",
        "            i = queue.pop(i)\n",
        "            numbers[i] = index\n",
        "            index += 1\n",
        "            for node in edges[i]:\n",
        "                ind = incom_nodes[node].index(np.inf)\n",
        "                incom_nodes[node][ind] = numbers[i]\n",
        "                if(np.inf in incom_nodes[node]):\n",
        "                    continue\n",
        "                else:\n",
        "                    new_queue.append(node)\n",
        "                    visited[node] = 1\n",
        "\n",
        "        queue = new_queue"
      ],
      "execution_count": 108,
      "outputs": []
    },
    {
      "cell_type": "code",
      "metadata": {
        "id": "d91JzryB1yPj"
      },
      "source": [
        "example = read_graphml('graph.xml')"
      ],
      "execution_count": 109,
      "outputs": []
    },
    {
      "cell_type": "code",
      "metadata": {
        "id": "u_0GDUH52jAa"
      },
      "source": [
        "nodes = [int(i[1:]) for i in list(example.nodes)]\n",
        "edges={}\n",
        "for node in list(example.nodes):\n",
        "  edges[int(node[1:])]=[int(i[1:]) for i in example.neighbors(node)]\n",
        "\n",
        "\n",
        "incom_nodes={node:[] for node in nodes}\n",
        "visited = {node:0 for node in nodes}\n",
        "numbers = {node:np.inf for node in nodes}"
      ],
      "execution_count": 110,
      "outputs": []
    },
    {
      "cell_type": "code",
      "metadata": {
        "id": "tx2gzEmO2mhL"
      },
      "source": [
        "for j in nodes:\n",
        "  if(visited[j]==1):\n",
        "    continue\n",
        "  queue=[]\n",
        "  queue.append(j)\n",
        "  while queue!=[]:\n",
        "    i = queue.pop(0)\n",
        "    visited[i] = 1\n",
        "    for node in edges[i]:\n",
        "      if(visited[node]==1):\n",
        "          incom_nodes[node].append(numbers[i])\n",
        "          continue\n",
        "      visited[node] = 1\n",
        "      queue.append(node)\n",
        "      incom_nodes[node].append(numbers[i])\n",
        "\n",
        "\n",
        "visited = {node:0 for node in nodes}\n",
        "start_nodes=[node for node in nodes if incom_nodes[node]==[]]\n",
        "first_layer = [node for node in nodes if edges[node]==[]]\n",
        "index = 0\n",
        "for i in start_nodes:\n",
        "  numbers[i]=index\n",
        "  index+=1"
      ],
      "execution_count": 111,
      "outputs": []
    },
    {
      "cell_type": "markdown",
      "metadata": {
        "id": "gAuAnu37ch9Y"
      },
      "source": [
        "Пронумеруем вершины:"
      ]
    },
    {
      "cell_type": "code",
      "metadata": {
        "id": "-g6FLvL72qXD"
      },
      "source": [
        "top_sort(start_nodes)"
      ],
      "execution_count": 112,
      "outputs": []
    },
    {
      "cell_type": "code",
      "metadata": {
        "id": "jONvuFtO3t2a"
      },
      "source": [
        "new_vertex=[(i,numbers[i]) for i in numbers]\n",
        "new_vertex.sort(key= lambda x: -x[1])\n"
      ],
      "execution_count": 113,
      "outputs": []
    },
    {
      "cell_type": "code",
      "metadata": {
        "id": "xGwPWh9f3t-q"
      },
      "source": [
        "def check_layer(vertex, num):\n",
        "    check_for_layer = 1\n",
        "\n",
        "    for edge in edges[vertex[0]]:\n",
        "        if (num_layer[edge] == num):\n",
        "            check_for_layer = 0\n",
        "            break\n",
        "\n",
        "    return check_for_layer\n",
        "\n",
        "\n",
        "def check_visit(vertex):\n",
        "    check_for_visit = 1\n",
        "\n",
        "    for edge in edges[vertex[0]]:\n",
        "        if (visited[edge] != 1):\n",
        "            check_for_visit = 0\n",
        "            break\n",
        "    return check_for_visit\n",
        "\n",
        "\n",
        "def distr_by_layer(w, queue):\n",
        "    num = 0\n",
        "    current = -1\n",
        "    layer = [[]]\n",
        "    while (queue != []):\n",
        "        for j, element in enumerate(queue):\n",
        "            check_for_visit = check_visit(element)\n",
        "            if check_for_visit == 1:\n",
        "                current = queue.pop(j)\n",
        "                break\n",
        "        check_for_layer = check_layer(current, num)\n",
        "        if ((check_for_layer == 0) or (len(layer[num]) >= w)):\n",
        "            num += 1\n",
        "            layer.append([])\n",
        "            layer[num].append(current[0])\n",
        "            visited[current[0]] = 1\n",
        "            num_layer[current[0]] = num\n",
        "        else:\n",
        "            layer[num].append(current[0])\n",
        "            visited[current[0]] = 1\n",
        "            num_layer[current[0]] = num\n",
        "    return layer"
      ],
      "execution_count": 114,
      "outputs": []
    },
    {
      "cell_type": "code",
      "metadata": {
        "id": "mZT_b3Yh3uDU"
      },
      "source": [
        "visited = {node:0 for node in nodes}\n",
        "num_layer = {node:-1 for node in nodes}\n",
        "new_vertex=[(i,numbers[i]) for i in numbers]\n",
        "new_vertex.sort(key= lambda x: -x[1])\n",
        "queue = new_vertex\n",
        "lay = distr_by_layer(w, queue)"
      ],
      "execution_count": 115,
      "outputs": []
    },
    {
      "cell_type": "markdown",
      "metadata": {
        "id": "9HRidulClJ-S"
      },
      "source": [
        "## В данной секции кода содержится реализация алгоритм минимизации количества dummy-вершин, когда w не задано, код в этой секции нужно использовать если w не задано:\n"
      ]
    },
    {
      "cell_type": "markdown",
      "metadata": {
        "id": "jJKzGvzo4rC8"
      },
      "source": [
        "Если w не задано:"
      ]
    },
    {
      "cell_type": "code",
      "metadata": {
        "id": "UfdRPtvj4wDa"
      },
      "source": [
        "nodes = [int(i[1:]) for i in list(example.nodes)]\n",
        "edges={}\n",
        "for node in list(example.nodes):\n",
        "  edges[int(node[1:])]=[int(i[1:]) for i in example.neighbors(node)]\n",
        "\n",
        "\n",
        "incom_nodes={node:[] for node in nodes}\n",
        "visited = {node:0 for node in nodes}\n",
        "numbers = {node:np.inf for node in nodes}"
      ],
      "execution_count": 75,
      "outputs": []
    },
    {
      "cell_type": "code",
      "metadata": {
        "id": "fQVTgYTJ4wIQ"
      },
      "source": [
        "from scipy.optimize import linprog"
      ],
      "execution_count": 76,
      "outputs": []
    },
    {
      "cell_type": "code",
      "metadata": {
        "id": "kLwr4DKL4wKF"
      },
      "source": [
        "obj={node:0 for node in nodes}\n",
        "\n",
        "for node in nodes:\n",
        "  for edge in edges[node]:  \n",
        "    if(edges[node]!=[]):\n",
        "      obj[node]=obj[node]+1\n",
        "      obj[edge]=obj[edge]-1"
      ],
      "execution_count": 77,
      "outputs": []
    },
    {
      "cell_type": "code",
      "metadata": {
        "id": "64_Gjilp4wLn"
      },
      "source": [
        "Obj = [obj[i] for i in obj]"
      ],
      "execution_count": 78,
      "outputs": []
    },
    {
      "cell_type": "code",
      "metadata": {
        "id": "zF_B4Ksf4wNy"
      },
      "source": [
        "lhs_ineq = []\n",
        "rhs_ineq = []\n",
        "for node in nodes:\n",
        "  for edge in edges[node]:\n",
        "    if(edges[node]!=[]):\n",
        "      procc=[0 for i in range(len(nodes))]\n",
        "      procc[node]=-1\n",
        "      procc[edge]=1\n",
        "      lhs_ineq.append(procc)\n",
        "      rhs_ineq.append(-1)"
      ],
      "execution_count": 79,
      "outputs": []
    },
    {
      "cell_type": "code",
      "metadata": {
        "id": "scAxPxSo4wRp"
      },
      "source": [
        "bnd = [(0, max(nodes)) for i in range(len(nodes))]"
      ],
      "execution_count": 80,
      "outputs": []
    },
    {
      "cell_type": "code",
      "metadata": {
        "colab": {
          "base_uri": "https://localhost:8080/"
        },
        "id": "BC97uwtN4wYM",
        "outputId": "614c1c7d-906a-4a7d-e3dd-aaff52d920f2"
      },
      "source": [
        "opt = linprog(c=Obj, A_ub=lhs_ineq, b_ub=rhs_ineq,bounds=bnd)"
      ],
      "execution_count": 81,
      "outputs": [
        {
          "output_type": "stream",
          "text": [
            "/usr/local/lib/python3.7/dist-packages/numpy/core/fromnumeric.py:87: VisibleDeprecationWarning: Creating an ndarray from ragged nested sequences (which is a list-or-tuple of lists-or-tuples-or ndarrays with different lengths or shapes) is deprecated. If you meant to do this, you must specify 'dtype=object' when creating the ndarray\n",
            "  return ufunc.reduce(obj, axis, dtype, out, **passkwargs)\n"
          ],
          "name": "stderr"
        }
      ]
    },
    {
      "cell_type": "code",
      "metadata": {
        "id": "83m3xJHj4wat"
      },
      "source": [
        "answ = opt.x"
      ],
      "execution_count": 82,
      "outputs": []
    },
    {
      "cell_type": "code",
      "metadata": {
        "id": "MxwX4bw04wf5"
      },
      "source": [
        "new_nodes = copy.deepcopy(nodes)\n",
        "new_nodes.sort(key= lambda x: -answ[x])"
      ],
      "execution_count": 83,
      "outputs": []
    },
    {
      "cell_type": "code",
      "metadata": {
        "id": "VKa5OuoVAgiU"
      },
      "source": [
        "new_ycoords={node:-1 for node in nodes}\n",
        "for i in new_nodes:\n",
        "  if(new_ycoords[i]==-1):\n",
        "    central_y = round(answ[i])\n",
        "    new_ycoords[i] = central_y \n",
        "    for edge in edges[i]:\n",
        "      currenr_y = round(answ[edge])\n",
        "      if(central_y == currenr_y):\n",
        "        currenr_y = currenr_y-1\n",
        "      new_ycoords[edge] = currenr_y \n"
      ],
      "execution_count": 84,
      "outputs": []
    },
    {
      "cell_type": "code",
      "metadata": {
        "id": "Y4d8A0a5DcOq"
      },
      "source": [
        "const = min(new_ycoords.values())\n",
        "for i in new_ycoords:\n",
        "  new_ycoords[i]-=const"
      ],
      "execution_count": 85,
      "outputs": []
    },
    {
      "cell_type": "code",
      "metadata": {
        "id": "nMJrTIjqD6yU"
      },
      "source": [
        "layer = [[] for i in range(max(new_ycoords.values())+1)]"
      ],
      "execution_count": 86,
      "outputs": []
    },
    {
      "cell_type": "code",
      "metadata": {
        "id": "zcZ5rOBAEZ9T"
      },
      "source": [
        "for y in new_ycoords:\n",
        "  layer[new_ycoords[y]].append(y)"
      ],
      "execution_count": 87,
      "outputs": []
    },
    {
      "cell_type": "code",
      "metadata": {
        "id": "JyeZmMZIEIP2"
      },
      "source": [
        "lay=layer"
      ],
      "execution_count": 88,
      "outputs": []
    },
    {
      "cell_type": "markdown",
      "metadata": {
        "id": "jsrLU-VClyCl"
      },
      "source": [
        "## В секции ниже реализован алгоритм минимизации (эвристическими средствами) количества пересечений рёбер, идущих между соседними слоями:\n"
      ]
    },
    {
      "cell_type": "code",
      "metadata": {
        "id": "GBRoc80X3uH_"
      },
      "source": [
        "x_coord={}\n",
        "y_coord={}"
      ],
      "execution_count": 116,
      "outputs": []
    },
    {
      "cell_type": "code",
      "metadata": {
        "id": "Prb7FJK_N4m8"
      },
      "source": [
        "y=0\n",
        "pop=0\n",
        "for vert in lay:\n",
        "  x=0\n",
        "  vert = vert\n",
        "  for i in vert:\n",
        "    x_coord[i]=x\n",
        "    y_coord[i]=y\n",
        "    x+=1\n",
        "  y+=1"
      ],
      "execution_count": 117,
      "outputs": []
    },
    {
      "cell_type": "markdown",
      "metadata": {
        "id": "ds2_dKWjdSSv"
      },
      "source": [
        "Отобразим промежуточные результаты, распределение вершин по слоям:"
      ]
    },
    {
      "cell_type": "code",
      "metadata": {
        "colab": {
          "base_uri": "https://localhost:8080/",
          "height": 775
        },
        "id": "Q9qS4T7VOsN6",
        "outputId": "1565084e-2c59-4936-e9fb-c592eb788778"
      },
      "source": [
        "import matplotlib.pyplot as plt\n",
        "import numpy as np\n",
        "from matplotlib.pyplot import figure\n",
        "\n",
        "\n",
        "figure(num=None, figsize=(10, 12), dpi=80, facecolor='w', edgecolor='k')\n",
        "\n",
        "ax=plt.gca()\n",
        "\n",
        "for edge in edges:\n",
        "  if (edges[edge]):\n",
        "    for ex in edges[edge]:\n",
        "      ax.arrow(x_coord[edge],y_coord[edge],-x_coord[edge]+x_coord[ex],-y_coord[edge]+y_coord[ex], width = 0.02)\n",
        "\n",
        "for x,y in zip(x_coord, y_coord):\n",
        "  circle = plt.Circle((x_coord[x], y_coord[y]), 0.2, color='r')\n",
        "  ax.add_patch(circle)\n",
        "\n",
        "for x,y in zip(x_coord, y_coord):\n",
        "  circle = plt.Circle((x_coord[x], y_coord[y]), 0.2, color='black', fill=False)\n",
        "  ax.add_patch(circle)\n",
        "  ax.text(x_coord[x], y_coord[y], x, color='white')\n",
        "\n",
        "\n",
        "plt.axis('scaled')\n",
        "plt.show()"
      ],
      "execution_count": 118,
      "outputs": [
        {
          "output_type": "display_data",
          "data": {
            "image/png": "[encoded data removed]",
            "text/plain": [
              "<Figure size 800x960 with 1 Axes>"
            ]
          },
          "metadata": {
            "tags": []
          }
        }
      ]
    },
    {
      "cell_type": "markdown",
      "metadata": {
        "id": "PhAhunbeDbqx"
      },
      "source": [
        "Добавим dummy вершины:"
      ]
    },
    {
      "cell_type": "code",
      "metadata": {
        "id": "9HRvv5mPGJKa"
      },
      "source": [
        "lay_reversed = lay[::-1]"
      ],
      "execution_count": 119,
      "outputs": []
    },
    {
      "cell_type": "code",
      "metadata": {
        "id": "VeKHwWKBOjAN"
      },
      "source": [
        "maximum = max(nodes)\n",
        "maximum+=1"
      ],
      "execution_count": 120,
      "outputs": []
    },
    {
      "cell_type": "code",
      "metadata": {
        "id": "48UeLrCMIpbl"
      },
      "source": [
        "super_edge = copy.deepcopy(edges)\n",
        "edges = copy.deepcopy(super_edge)"
      ],
      "execution_count": 121,
      "outputs": []
    },
    {
      "cell_type": "code",
      "metadata": {
        "id": "VvAXwjTKc8BO"
      },
      "source": [
        "dummy_vertex=[]\n",
        "normal_vertex=super_edge.keys()"
      ],
      "execution_count": 122,
      "outputs": []
    },
    {
      "cell_type": "code",
      "metadata": {
        "id": "Kb6_idiU118U"
      },
      "source": [
        "new_vertex={}\n",
        "num=-1\n",
        "for i in range(len(lay_reversed)):\n",
        "  for ver in lay_reversed[i]:\n",
        "    for edge in super_edge[ver]:\n",
        "      if edge not in lay_reversed[i+1]:\n",
        "        if (x_coord[ver]!=x_coord[edge]):\n",
        "          a = (y_coord[ver]-y_coord[edge])/(x_coord[ver]-x_coord[edge])\n",
        "          b = y_coord[ver] - a*x_coord[ver]\n",
        "          iter = int(y_coord[ver]-y_coord[edge])\n",
        "          ex=ver\n",
        "          for j in range(iter):\n",
        "            new_x = ((y_coord[ver]-1-j) - b)/a  \n",
        "            if j==iter-1:\n",
        "              edges[ver].pop(edges[ver].index(edge))\n",
        "              try:\n",
        "                 new_vertex[ex].append((edge,new_x,y_coord[ver]-1-j))\n",
        "              except KeyError:\n",
        "                 new_vertex[ex] = [(edge,new_x,y_coord[ver]-1-j)]\n",
        "            else:\n",
        "              try:\n",
        "                 new_vertex[ex].append((maximum, new_x, y_coord[ver]-1-j))\n",
        "              except KeyError:\n",
        "                 new_vertex[ex] = [(maximum, new_x, y_coord[ver]-1-j)]\n",
        "              dummy_vertex.append(maximum)\n",
        "              ex=maximum\n",
        "              maximum+=1\n",
        "            \n",
        "        if(x_coord[ver] == x_coord[edge]):\n",
        "            iter = int(y_coord[ver]-y_coord[edge])\n",
        "            ex = ver\n",
        "            for j in range(iter):\n",
        "              new_x = x_coord[ver]\n",
        "              if j==iter-1:\n",
        "                edges[ver].pop(edges[ver].index(edge))\n",
        "                try:\n",
        "                  new_vertex[ex].append((edge,new_x,y_coord[ver]-1-j))\n",
        "                except KeyError:\n",
        "                  new_vertex[ex] = [(edge,new_x,y_coord[ver]-1-j)]\n",
        "              else:\n",
        "                try:\n",
        "                  new_vertex[ex].append((maximum,new_x,y_coord[ver]-1-j))\n",
        "                except KeyError:\n",
        "                  new_vertex[ex] = [(maximum,new_x,y_coord[ver]-1-j)]\n",
        "                dummy_vertex.append(maximum)\n",
        "                ex=maximum\n",
        "                maximum+=1\n",
        "          "
      ],
      "execution_count": 123,
      "outputs": []
    },
    {
      "cell_type": "code",
      "metadata": {
        "id": "sepuX2P8bYvf"
      },
      "source": [
        "x_coord_=copy.deepcopy(x_coord)\n",
        "y_coord_=copy.deepcopy(y_coord)\n",
        "edges_=copy.deepcopy(edges)"
      ],
      "execution_count": 124,
      "outputs": []
    },
    {
      "cell_type": "code",
      "metadata": {
        "id": "B1rpHN2-Ligx"
      },
      "source": [
        "for i in new_vertex:\n",
        "  for j in new_vertex[i]:\n",
        "    if j[0] not in edges_:\n",
        "      edges_[j[0]]=[]\n",
        "      x_coord_[j[0]]=j[1]\n",
        "      y_coord_[j[0]]=j[2]\n",
        "\n",
        "for i in new_vertex:\n",
        "  for j in new_vertex[i]:\n",
        "      edges_[i].append(j[0])"
      ],
      "execution_count": 125,
      "outputs": []
    },
    {
      "cell_type": "markdown",
      "metadata": {
        "id": "knjZs9kqeU8t"
      },
      "source": [
        "минимизируем количество пересечений рёбер, идущих между соседними слоями: "
      ]
    },
    {
      "cell_type": "code",
      "metadata": {
        "id": "TSsx-a6Qhuba"
      },
      "source": [
        "new_layer = [[] for i in range(len(lay))]\n",
        "for y in y_coord_:\n",
        "  new_layer[y_coord_[y]].append(y)"
      ],
      "execution_count": 126,
      "outputs": []
    },
    {
      "cell_type": "code",
      "metadata": {
        "id": "l1zyxusKivGA"
      },
      "source": [
        "index=max(x_coord_.values())+1\n",
        "for arr in new_layer:\n",
        "  arr.sort(key=lambda x: x_coord_[x])"
      ],
      "execution_count": 127,
      "outputs": []
    },
    {
      "cell_type": "code",
      "metadata": {
        "id": "8N2hf0c2lStF"
      },
      "source": [
        "for arr in new_layer:\n",
        "  if len(arr) >= index:\n",
        "    p = index/len(arr)\n",
        "    x_0=0\n",
        "    for x in arr:\n",
        "      x_coord_[x]=x_0\n",
        "      x_0+=p"
      ],
      "execution_count": 128,
      "outputs": []
    },
    {
      "cell_type": "markdown",
      "metadata": {
        "id": "5ENwuiPNkkfq"
      },
      "source": [
        "Отобразим ациклических орграф c добавленными dummy вершинами: "
      ]
    },
    {
      "cell_type": "code",
      "metadata": {
        "colab": {
          "base_uri": "https://localhost:8080/",
          "height": 775
        },
        "id": "WAuJ4JDQhlPS",
        "outputId": "f48ffd90-3613-4d5c-8e11-bec379866bd2"
      },
      "source": [
        "import matplotlib.pyplot as plt\n",
        "import numpy as np\n",
        "from matplotlib.pyplot import figure\n",
        "\n",
        "\n",
        "figure(num=None, figsize=(10, 12), dpi=80, facecolor='w', edgecolor='k')\n",
        "\n",
        "ax=plt.gca()\n",
        "\n",
        "\n",
        "for x,y in zip(x_coord_, y_coord_):\n",
        "  if(x in normal_vertex):\n",
        "    circle = plt.Circle((x_coord_[x], y_coord_[y]), 0.2, color='r')\n",
        "    ax.add_patch(circle)\n",
        "    circle = plt.Circle((x_coord_[x], y_coord_[y]), 0.2, color='black', fill=False)\n",
        "    ax.add_patch(circle)\n",
        "    ax.text(x_coord_[x], y_coord_[y], x, color='white')\n",
        "  else:\n",
        "    circle = plt.Circle((x_coord_[x], y_coord_[y]), 0.005, color='black')\n",
        "    ax.add_patch(circle)\n",
        "    \n",
        "  #ax.add_patch(txt)\n",
        "for edge in edges_:\n",
        "  if (edges_[edge]):\n",
        "    for ex in edges_[edge]:\n",
        "      ax.arrow(x_coord_[edge],y_coord_[edge],-x_coord_[edge]+x_coord_[ex],-y_coord_[edge]+y_coord_[ex], width = 0.02)\n",
        "\n",
        "\n",
        "plt.axis('scaled')\n",
        "plt.show()"
      ],
      "execution_count": 129,
      "outputs": [
        {
          "output_type": "display_data",
          "data": {
            "image/png": "[encoded data removed]",
            "text/plain": [
              "<Figure size 800x960 with 1 Axes>"
            ]
          },
          "metadata": {
            "tags": []
          }
        }
      ]
    },
    {
      "cell_type": "markdown",
      "metadata": {
        "id": "96xK3zZTnSSC"
      },
      "source": [
        "Минимизируем количество пересечений рёбер, идущих между соседними слоями используя эвристический алгоритм:"
      ]
    },
    {
      "cell_type": "code",
      "metadata": {
        "id": "Em09mJbWnZmP"
      },
      "source": [
        "import itertools\n",
        "\n",
        "\n",
        "def area(a_x, a_y, b_x, b_y, c_x, c_y): \n",
        "\treturn ((b_x - a_x) * (c_y - a_y) - (b_y - a_y) * (c_x - a_x))\n",
        "\n",
        "def intersect_1(a,b,c,d):\n",
        "  if (a>b):\n",
        "    a,b=b,a\n",
        "  if(c>d):\n",
        "    c,d=d,c\n",
        "  return (max(a,c)<=min(b,d))\n",
        "\n",
        "def inder(x_1,y_1,x_2,y_2,x_3,y_3,x_4,y_4):\n",
        "  if (((x_1 == x_3) and (y_1==y_3)) or ((x_2 == x_4) and (y_2==y_4))):\n",
        "    return 0\n",
        "  return int((intersect_1(x_1, x_2, x_3, x_4)) and (intersect_1(y_1, y_2, y_3, y_4)) and (area(x_1,y_1,x_2,y_2,x_3,y_3) * area(x_1,y_1,x_2,y_2,x_4,y_4) <= 0) and (area(x_3,y_3,x_4,y_4,x_1,y_1) * area(x_3,y_3,x_4,y_4,x_2,y_2) <= 0))\n",
        "    \n",
        "def euristiks(new_layer, x_coord):\n",
        "    for i in range(len(new_layer) - 2):\n",
        "        etalon = copy.deepcopy(x_coord)\n",
        "        reverse = len(new_layer[i+1])\n",
        "        count_min = countInderect(i, new_layer, x_coord)\n",
        "        #по всем перестановкам, ограничим возможное количество перестановок т.к. иначе алгоритм будет работать долго \n",
        "        for permutation in itertools.permutations(range(min(6, reverse))):\n",
        "            x_coord__ = copy.deepcopy(x_coord)\n",
        "            #замена координат\n",
        "            for j, k in enumerate(permutation):\n",
        "                x_coord__[new_layer[i+1][int(k)]] = x_coord[new_layer[i+1][j]]\n",
        "            count = countInderect(i, new_layer, x_coord__)\n",
        "            if count < count_min:\n",
        "                count_min = count\n",
        "                etalon = copy.deepcopy(x_coord__)\n",
        "        #присваиваем лучшие координаты:\n",
        "        x_coord=copy.deepcopy(etalon)\n",
        "    return x_coord\n",
        "\n",
        "def countInderect(i, new_layer, x_coord_):\n",
        "    count=0    \n",
        "    coords = []\n",
        "    for ver in new_layer[i]:\n",
        "      for edge in edges_[ver]:\n",
        "        coords.append([x_coord_[ver], y_coord_[ver], x_coord_[edge], y_coord_[edge]])\n",
        "    \n",
        "    for j in range(len(coords)):\n",
        "      for k in range(j+1, len(coords)):\n",
        "        count+=inder(coords[j][0],coords[j][1],coords[j][2],coords[j][3],coords[k][0],coords[k][1],coords[k][2],coords[k][3])\n",
        "\n",
        "    coords = []\n",
        "    for ver in new_layer[i+1]:\n",
        "      for edge in edges_[ver]:\n",
        "        coords.append([x_coord_[ver], y_coord_[ver], x_coord_[edge], y_coord_[edge]])\n",
        "    for j in range(len(coords)):\n",
        "      for k in range(j+1, len(coords)):\n",
        "        count+=inder(coords[j][0],coords[j][1],coords[j][2],coords[j][3],coords[k][0],coords[k][1],coords[k][2],coords[k][3])\n",
        "    \n",
        "    return count"
      ],
      "execution_count": 130,
      "outputs": []
    },
    {
      "cell_type": "code",
      "metadata": {
        "id": "HgQsuKrThvxV"
      },
      "source": [
        "x_coord_ = euristiks(new_layer[::-1], x_coord_)"
      ],
      "execution_count": 131,
      "outputs": []
    },
    {
      "cell_type": "markdown",
      "metadata": {
        "id": "Kqq2XThchWzN"
      },
      "source": [
        "Отобразим окончательный результат:"
      ]
    },
    {
      "cell_type": "code",
      "metadata": {
        "colab": {
          "base_uri": "https://localhost:8080/",
          "height": 775
        },
        "id": "EhiFzzA6j0yu",
        "outputId": "bf15613b-c449-4b33-f344-1f7ed97cb1ea"
      },
      "source": [
        "import matplotlib.pyplot as plt\n",
        "import numpy as np\n",
        "from matplotlib.pyplot import figure\n",
        "\n",
        "\n",
        "figure(num=None, figsize=(10, 12), dpi=80, facecolor='w', edgecolor='k')\n",
        "\n",
        "ax=plt.gca()\n",
        "\n",
        "\n",
        "for x,y in zip(x_coord_, y_coord_):\n",
        "  if(x in normal_vertex):\n",
        "    circle = plt.Circle((x_coord_[x], y_coord_[y]), 0.2, color='r')\n",
        "    ax.add_patch(circle)\n",
        "    circle = plt.Circle((x_coord_[x], y_coord_[y]), 0.2, color='black', fill=False)\n",
        "    ax.add_patch(circle)\n",
        "    ax.text(x_coord_[x], y_coord_[y], x, color='white')\n",
        "  else:\n",
        "    circle = plt.Circle((x_coord_[x], y_coord_[y]), 0.01, color='black')\n",
        "    ax.add_patch(circle)\n",
        "\n",
        "  #ax.add_patch(txt)\n",
        "for edge in edges_:\n",
        "  if (edges_[edge]):\n",
        "    for ex in edges_[edge]:\n",
        "      ax.arrow(x_coord_[edge],y_coord_[edge],-x_coord_[edge]+x_coord_[ex],-y_coord_[edge]+y_coord_[ex], width = 0.02)\n",
        "\n",
        "\n",
        "plt.axis('scaled')\n",
        "plt.show()"
      ],
      "execution_count": 132,
      "outputs": [
        {
          "output_type": "display_data",
          "data": {
            "image/png": "[encoded data removed]",
            "text/plain": [
              "<Figure size 800x960 with 1 Axes>"
            ]
          },
          "metadata": {
            "tags": []
          }
        }
      ]
    },
    {
      "cell_type": "code",
      "metadata": {
        "id": "dgwOMBRztf-e"
      },
      "source": [
        ""
      ],
      "execution_count": null,
      "outputs": []
    }
  ]
}