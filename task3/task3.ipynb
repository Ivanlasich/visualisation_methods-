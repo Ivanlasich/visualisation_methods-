{
  "nbformat": 4,
  "nbformat_minor": 0,
  "metadata": {
    "colab": {
      "name": "task3.ipynb",
      "provenance": [],
      "collapsed_sections": []
    },
    "kernelspec": {
      "name": "python3",
      "display_name": "Python 3"
    },
    "language_info": {
      "name": "python"
    }
  },
  "cells": [
    {
      "cell_type": "markdown",
      "metadata": {
        "id": "qBGiSqjDXtPn"
      },
      "source": [
        "Домашнее задание номер 3 по курсу \"Методы визуализации данных\".\n",
        "\n",
        "Выполнил Лазичный Иван Александрович, группа М05-012б\n",
        "\n",
        "label placement:"
      ]
    },
    {
      "cell_type": "markdown",
      "metadata": {
        "id": "FFwpSpH0pIiC"
      },
      "source": [
        "Реализуем решение задачи в постановке, когда для каждой точки задан выбор не более чем из двух вариантов расположения подписи. Кодирование входных даннных \n",
        "будет в данном формате: (x-координата середины отрезка паралельного оси Ox, который образует прямоугольник, аналогичная y-координаты точки, ширина, высота)"
      ]
    },
    {
      "cell_type": "code",
      "metadata": {
        "id": "IJf0HV5BXrbM"
      },
      "source": [
        "#функция для проверки пересечения прямоугольникв\n",
        "def is_cross(a,b):\n",
        "    ax1,ay1,ax2,ay2 = a[0],a[1],a[2],a[3]          \n",
        "     \n",
        "    bx1, by1, bx2, by2 = b[0], b[1], b[2], b[3]    \n",
        "    xA = [ax1,ax2] \n",
        "    xB = [bx1,bx2] \n",
        "\n",
        "    yA = [ay1, ay2]  \n",
        "    yB = [by1, by2]  \n",
        "\n",
        "    if max(xB) < min(xA) or max(xA)<min(xB) or max(yA) < min(yB) or min(yA) > max(yB):\n",
        "        return False    \n",
        "    else:\n",
        "        return True     "
      ],
      "execution_count": 626,
      "outputs": []
    },
    {
      "cell_type": "code",
      "metadata": {
        "id": "9k1RdMSjbJjH"
      },
      "source": [
        "#получим координаты левого верхнего и правого нижнего угла: \n",
        "def coords_left_right(x, y, width, height, flag):\n",
        "  if(flag == 1):\n",
        "    x_l = float(x - width/2)\n",
        "    y_l = y + height\n",
        "    x_r = float(x + width/2)\n",
        "    y_r = y\n",
        "    return x_l, y_l, x_r, y_r\n",
        "  else:\n",
        "    x_l = float(x - width/2)\n",
        "    y_l = y\n",
        "    x_r = float(x + width/2)\n",
        "    y_r = y - height\n",
        "    return x_l, y_l, x_r, y_r\n",
        "\n",
        "def get_expression(data):\n",
        "  expr = []\n",
        "  for i in range(len(data)):\n",
        "    for j in range(1+i, len(data)):\n",
        "      for k in range(2):\n",
        "        for l in range(2):\n",
        "          a = coords_left_right(data[i][0], data[i][1], data[i][2], data[i][3], k)\n",
        "          b = coords_left_right(data[j][0], data[j][1], data[j][2], data[j][3], l)\n",
        "          if(is_cross(a,b)):\n",
        "            if((k==1) and (l==1)):\n",
        "              s = str(i)+'-'+'!'+str(j)\n",
        "              expr.append(s)\n",
        "              s = str(j)+'-'+'!'+str(i)\n",
        "              expr.append(s)\n",
        "               \n",
        "            elif((k==1) and (l==0)):\n",
        "              s = str(i)+'-'+str(j)\n",
        "              expr.append(s)\n",
        "              s = '!'+str(j)+'-'+'!'+str(i)\n",
        "              expr.append(s)\n",
        "                \n",
        "            elif((k==0) and (l==1)):\n",
        "              s = '!' + str(i) + '-' + '!' + str(j)\n",
        "              expr.append(s)\n",
        "              s = str(j) + '-' + str(i)\n",
        "              expr.append(s)\n",
        "\n",
        "            else:#0-0\n",
        "              s = '!' + str(i) + '-' + str(j)\n",
        "              expr.append(s)\n",
        "              s = '!' + str(j) + '-' + str(i)\n",
        "              expr.append(s)\n",
        "  return expr  \n",
        "\n",
        "#функция для нахождения левого нижнего угла прямоугольника\n",
        "def get_left_down(x, y, width, height, flag):\n",
        "  if (flag == 1):\n",
        "    x_left_down = float(x - width/2)\n",
        "    return x_left_down, y\n",
        "  else:\n",
        "    x_left_down = float(x - width/2)\n",
        "    y_left_down = y - height\n",
        "    return x_left_down, y_left_down"
      ],
      "execution_count": 627,
      "outputs": []
    },
    {
      "cell_type": "markdown",
      "metadata": {
        "id": "oWSlCkrNcg32"
      },
      "source": [
        "Зададим входные данные:"
      ]
    },
    {
      "cell_type": "code",
      "metadata": {
        "id": "yrf_5dV8bJng"
      },
      "source": [
        "data = [(0, 0, 4, 2), (4, -1, 6, 3), (0, 3, 4, 3), (6, 0, 4, 4), (10, 5, 6, 6), (14, 4, 2, 3), (16, 5, 4, 5),(14,-1,2,3),(5,-6,3,2),(-1,7, 9, 3),(10,4,2,6),(5.2,5,1,7),(13,-5,7,3), (-5,4,4,10)]"
      ],
      "execution_count": 628,
      "outputs": []
    },
    {
      "cell_type": "code",
      "metadata": {
        "id": "IG7gfJDvev1a"
      },
      "source": [
        "#проверим , что данные не вылезают за пределы холста 500×500:\n",
        "for d in data:\n",
        "  x1 = d[0]+d[2]/2\n",
        "  y1 = d[1]+d[3]\n",
        "  x2 = d[0]-d[2]/2\n",
        "  y2 = d[1]-d[3]\n",
        "\n",
        "  if((abs(x1) > 500) or (abs(y1) > 500) or (abs(x2) > 500) or (abs(y2) > 500)):\n",
        "    print(\"ERROR, table is out of bounds\")\n",
        "    break\n",
        "  "
      ],
      "execution_count": 629,
      "outputs": []
    },
    {
      "cell_type": "code",
      "metadata": {
        "colab": {
          "base_uri": "https://localhost:8080/"
        },
        "id": "SBj3DQ5vUpdp",
        "outputId": "f3d14343-c6e5-48ae-fe7b-25956f1688e5"
      },
      "source": [
        "print(data)"
      ],
      "execution_count": 630,
      "outputs": [
        {
          "output_type": "stream",
          "text": [
            "[(0, 0, 4, 2), (4, -1, 6, 3), (0, 3, 4, 3), (6, 0, 4, 4), (10, 5, 6, 6), (14, 4, 2, 3), (16, 5, 4, 5), (14, -1, 2, 3), (5, -6, 3, 2), (-1, 7, 9, 3), (10, 4, 2, 6), (5.2, 5, 1, 7), (13, -5, 7, 3), (-5, 4, 4, 10)]\n"
          ],
          "name": "stdout"
        }
      ]
    },
    {
      "cell_type": "markdown",
      "metadata": {
        "id": "AmNrCJUGptXZ"
      },
      "source": [
        "Получим выражение из импликаций:"
      ]
    },
    {
      "cell_type": "code",
      "metadata": {
        "colab": {
          "base_uri": "https://localhost:8080/"
        },
        "id": "ABZfxPY72L1Q",
        "outputId": "a4533997-0677-4b5e-af9f-581f5351473f"
      },
      "source": [
        "expr = get_expression(data)\n",
        "print(expr)"
      ],
      "execution_count": 631,
      "outputs": [
        {
          "output_type": "stream",
          "text": [
            "['!0-1', '!1-0', '!0-!1', '1-0', '0-!1', '1-!0', '!0-2', '!2-0', '0-2', '!2-!0', '1-2', '!2-!1', '!1-3', '!3-1', '1-3', '!3-!1', '1-!3', '3-!1', '!1-4', '!4-1', '1-4', '!4-!1', '!1-!8', '8-1', '!1-11', '!11-1', '1-11', '!11-!1', '2-9', '!9-!2', '!3-4', '!4-3', '3-4', '!4-!3', '!3-!8', '8-3', '!3-11', '!11-3', '3-11', '!11-!3', '!4-5', '!5-4', '!4-!5', '5-4', '4-!5', '5-!4', '!4-7', '!7-4', '!4-!7', '7-4', '!4-10', '!10-4', '!4-!10', '10-4', '4-!10', '10-!4', '!5-6', '!6-5', '5-6', '!6-!5', '5-!6', '6-!5', '!5-!7', '7-5', '!6-!7', '7-6', '!7-!12', '12-7', '!9-13', '!13-9', '!9-!13', '13-9', '9-!13', '13-!9', '!10-!12', '12-10']\n"
          ],
          "name": "stdout"
        }
      ]
    },
    {
      "cell_type": "markdown",
      "metadata": {
        "id": "HM6cr_5wp1cI"
      },
      "source": [
        "Построим граф:"
      ]
    },
    {
      "cell_type": "code",
      "metadata": {
        "colab": {
          "base_uri": "https://localhost:8080/"
        },
        "id": "4pYK6j00sK6D",
        "outputId": "fcb91ef1-1271-4276-897b-37dbb94307a2"
      },
      "source": [
        "vertexs=set()\n",
        "for ex in expr:\n",
        "  a, b = ex.split('-')\n",
        "  vertexs.add(a)\n",
        "  vertexs.add(b)\n",
        "print(vertexs)"
      ],
      "execution_count": 632,
      "outputs": [
        {
          "output_type": "stream",
          "text": [
            "{'!7', '5', '!13', '1', '!5', '!2', '!4', '!1', '11', '4', '12', '9', '!9', '!11', '0', '10', '3', '6', '!10', '13', '!0', '!3', '2', '7', '!6', '!12', '!8', '8'}\n"
          ],
          "name": "stdout"
        }
      ]
    },
    {
      "cell_type": "code",
      "metadata": {
        "id": "JUgpuNw5gvbs"
      },
      "source": [
        "edges = {vertex:[] for vertex in vertexs}\n",
        "edges_t = {vertex:[] for vertex in vertexs}\n",
        "\n",
        "for ex in expr:\n",
        "  a, b = ex.split('-')\n",
        "  edges[a].append(b)\n",
        "  edges_t[b].append(a)"
      ],
      "execution_count": 633,
      "outputs": []
    },
    {
      "cell_type": "markdown",
      "metadata": {
        "id": "V9tNCMcYcnMf"
      },
      "source": [
        "Реализуем 2-SAT решатель:"
      ]
    },
    {
      "cell_type": "code",
      "metadata": {
        "id": "lf9VsnD6tgsn"
      },
      "source": [
        "def dfs1(v):\n",
        "  used[v]=1\n",
        "  for edge in edges[v]:\n",
        "    if(used[edge]!=1):\n",
        "      dfs1(edge)\n",
        "  order.append(v)\n",
        "\n",
        "def dfs2(v, cl):\n",
        "  comp[v] = cl\n",
        "  for edge in edges_t[v]:\n",
        "    if (comp[edge] == -1):\n",
        "      dfs2(edge, cl)    "
      ],
      "execution_count": 634,
      "outputs": []
    },
    {
      "cell_type": "code",
      "metadata": {
        "id": "v3ey-YK_wa6g"
      },
      "source": [
        "order = []\n",
        "used = {vertex:0 for vertex in vertexs}\n",
        "comp = {vertex:-1 for vertex in vertexs}\n",
        "answer = {vertex:-1 for vertex in vertexs}\n",
        "\n",
        "\n",
        "for vertex in vertexs:\n",
        "  if(not used[vertex]):\n",
        "\t  dfs1(vertex)\n",
        "\n",
        "j=0\n",
        "for v in order[::-1]:\n",
        "  if(comp[v] == -1):\n",
        "    j+=1\n",
        "    dfs2(v, j)\n",
        "\t  \n",
        "\n",
        "for vertex in vertexs:\n",
        "  if(vertex[0]!='!'):\n",
        "    st_t = '!'+vertex\n",
        "    if(comp[vertex]==comp[st_t]):\n",
        "      print(\"NO SOLUTION\")  \n",
        "   \n",
        "for vertex in vertexs:\n",
        "  if(vertex[0]!='!'):\n",
        "    st_t = '!'+vertex\n",
        "    if(comp[vertex] > comp[st_t]):\n",
        "      answer[vertex]=1\n",
        "    else:\n",
        "      answer[vertex]=0\n"
      ],
      "execution_count": 635,
      "outputs": []
    },
    {
      "cell_type": "code",
      "metadata": {
        "id": "iNAxFs9ETpEN"
      },
      "source": [
        "def get_left_down(x, y, width, height, flag):\n",
        "  if (flag == 1):\n",
        "    x_left_down = float(x - width/2)\n",
        "    return x_left_down, y\n",
        "  else:\n",
        "    x_left_down = float(x - width/2)\n",
        "    y_left_down = y - height\n",
        "    return x_left_down, y_left_down"
      ],
      "execution_count": 636,
      "outputs": []
    },
    {
      "cell_type": "code",
      "metadata": {
        "id": "ZIcxyXehVzIV"
      },
      "source": [
        "draw = []\n",
        "for i,j in enumerate(data):\n",
        "  if(answer.get(str(i))!=None):\n",
        "    x, y = get_left_down(j[0], j[1], j[2], j[3], answer[str(i)])\n",
        "  else:\n",
        "    x, y = get_left_down(j[0], j[1], j[2], j[3], 1)\n",
        "\n",
        "  draw.append((x, y, j[2], j[3]))"
      ],
      "execution_count": 637,
      "outputs": []
    },
    {
      "cell_type": "markdown",
      "metadata": {
        "id": "ZdZ6oAo4cyxt"
      },
      "source": [
        "Отобразим конечный результат:"
      ]
    },
    {
      "cell_type": "code",
      "metadata": {
        "colab": {
          "base_uri": "https://localhost:8080/",
          "height": 546
        },
        "id": "ZatadO8WFuYA",
        "outputId": "3e4a06c1-2bf3-4c97-dd08-5b2fb19a5ffe"
      },
      "source": [
        "import matplotlib.pyplot as plt\n",
        "import numpy as np\n",
        "from matplotlib.pyplot import figure\n",
        "import matplotlib.patches as patches\n",
        "\n",
        "\n",
        "figure(num=None, figsize=(10, 12), dpi=80, facecolor='w', edgecolor='k')\n",
        "\n",
        "ax=plt.gca()\n",
        "\n",
        "for i, d in enumerate(draw):\n",
        "  rect = patches.Rectangle((d[0], d[1]), d[2], d[3], linewidth=1, edgecolor='r', facecolor='none')\n",
        "  ax.add_patch(rect)\n",
        "  circle = plt.Circle((data[i][0], data[i][1]), 0.08, color='black')\n",
        "  ax.add_patch(circle)\n",
        "  ax.text(data[i][0], data[i][1], i, color='black')\n",
        "\n",
        "plt.axis('scaled')\n",
        "plt.show()"
      ],
      "execution_count": 638,
      "outputs": [
        {
          "output_type": "display_data",
          "data": {
            "image/png": "[encoded data removed]",
            "text/plain": [
              "<Figure size 800x960 with 1 Axes>"
            ]
          },
          "metadata": {
            "tags": []
          }
        }
      ]
    },
    {
      "cell_type": "code",
      "metadata": {
        "id": "xmm8xizxqYRx"
      },
      "source": [
        ""
      ],
      "execution_count": 625,
      "outputs": []
    }
  ]
}